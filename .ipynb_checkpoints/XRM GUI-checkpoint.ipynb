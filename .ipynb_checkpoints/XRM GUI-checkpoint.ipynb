{
 "cells": [
  {
   "cell_type": "code",
   "execution_count": 1,
   "id": "8ba368e7-7ac9-4c08-b334-1cbb12e2f6e4",
   "metadata": {},
   "outputs": [
    {
     "data": {
      "application/vnd.jupyter.widget-view+json": {
       "model_id": "6ce2d4875ba64026b9459df647bd32c9",
       "version_major": 2,
       "version_minor": 0
      },
      "text/plain": [
       "GridBox(children=(Label(value=''), Button(description='LED 1', layout=Layout(height='50px', width='60px'), sty…"
      ]
     },
     "metadata": {},
     "output_type": "display_data"
    }
   ],
   "source": [
    "import ipywidgets as widgets\n",
    "from IPython.display import display\n",
    "from ipywidgets import GridBox, Layout\n",
    "\n",
    "# Function to handle button click events\n",
    "def on_button_clicked(b):\n",
    "    # Toggle: center becomes light green; others become light red (\"lightcoral\")\n",
    "    if b.style.button_color == 'lightgray':\n",
    "        if hasattr(b, 'role') and b.role == 'LED 3':\n",
    "            b.style.button_color = 'lightgreen'\n",
    "        else:\n",
    "            b.style.button_color = 'lightcoral'\n",
    "    else:\n",
    "        b.style.button_color = 'lightgray'\n",
    "\n",
    "# Create five buttons\n",
    "buttons = { \n",
    "    'up': widgets.Button(description='LED 1', layout=Layout(width='60px', height='50px')),\n",
    "    'left': widgets.Button(description='LED 2', layout=Layout(width='60px', height='50px')),\n",
    "    'center': widgets.Button(description='LED 3', layout=Layout(width='60px', height='50px')),\n",
    "    'right': widgets.Button(description='LED 4', layout=Layout(width='60px', height='50px')),\n",
    "    'down': widgets.Button(description='LED 5', layout=Layout(width='60px', height='50px'))\n",
    "}\n",
    "\n",
    "# Assign the role for the center button so its logic applies\n",
    "buttons['center'].role = 'LED 3'\n",
    "\n",
    "# Set initial styles and event handlers for all buttons\n",
    "for button in buttons.values():\n",
    "    button.style.button_color = 'lightgray'\n",
    "    button.on_click(on_button_clicked)\n",
    "\n",
    "# Define a compact grid layout with NO extra space\n",
    "grid = GridBox(\n",
    "    children=[\n",
    "        widgets.Label(), buttons['up'], widgets.Label(),  # Row 1: Up button centered\n",
    "        buttons['left'], buttons['center'], buttons['right'],  # Row 2: Main row\n",
    "        widgets.Label(), buttons['down'], widgets.Label()   # Row 3: Down button centered\n",
    "    ],\n",
    "    layout=Layout(\n",
    "        display='grid',\n",
    "        grid_template_columns=\"auto auto auto\",\n",
    "        grid_template_rows=\"auto auto auto\",\n",
    "        justify_content=\"center\",\n",
    "        align_content=\"center\",\n",
    "        gap=\"0px\"\n",
    "    )\n",
    ")\n",
    "\n",
    "# Display the cross layout\n",
    "display(grid)"
   ]
  },
  {
   "cell_type": "code",
   "execution_count": 2,
   "id": "2f63cd03-a33d-4603-8adc-aa1875db2b28",
   "metadata": {},
   "outputs": [
    {
     "data": {
      "application/vnd.jupyter.widget-view+json": {
       "model_id": "16af6461514349f0919d44c8b29fe453",
       "version_major": 2,
       "version_minor": 0
      },
      "text/plain": [
       "GridBox(children=(Label(value=''), Button(description='LED 1', layout=Layout(height='50px', width='60px'), sty…"
      ]
     },
     "metadata": {},
     "output_type": "display_data"
    }
   ],
   "source": [
    "import ipywidgets as widgets\n",
    "from IPython.display import display\n",
    "from ipywidgets import GridBox, Layout\n",
    "from serial import Serial\n",
    "\n",
    "# Open serial connection (adjust port and baud rate as needed)\n",
    "# For Windows, use something like 'COM3'\n",
    "ser = Serial('/dev/ttyUSB1', 115200, timeout=1)\n",
    "\n",
    "def on_button_clicked(b):\n",
    "    # Toggle: center becomes light green; others become light red (\"lightcoral\")\n",
    "    if b.style.button_color == 'lightgray':\n",
    "        if hasattr(b, 'role') and b.role == 'LED 3':\n",
    "            b.style.button_color = 'lightgreen'\n",
    "        else:\n",
    "            b.style.button_color = 'lightcoral'\n",
    "    else:\n",
    "        b.style.button_color = 'lightgray'\n",
    "    \n",
    "    # Extract LED number from the button description (\"LED X\")\n",
    "    try:\n",
    "        led_number = b.description.split()[1]\n",
    "    except IndexError:\n",
    "        led_number = \"?\"\n",
    "    \n",
    "    # Determine desired state: ON if button is not gray, OFF if gray.\n",
    "    state = \"ON\" if b.style.button_color != 'lightgray' else \"OFF\"\n",
    "    # Build command string (this format should match what your FPGA firmware expects)\n",
    "    command = f\"LED{led_number} {state}\\n\"\n",
    "    print(\"Sending command:\", command)  # Debug print; remove in production\n",
    "    ser.write(command.encode('utf-8'))\n",
    "\n",
    "# Create five buttons with labels and a fixed layout\n",
    "buttons = { \n",
    "    'up': widgets.Button(description='LED 1', layout=Layout(width='60px', height='50px')),\n",
    "    'left': widgets.Button(description='LED 2', layout=Layout(width='60px', height='50px')),\n",
    "    'center': widgets.Button(description='LED 3', layout=Layout(width='60px', height='50px')),\n",
    "    'right': widgets.Button(description='LED 4', layout=Layout(width='60px', height='50px')),\n",
    "    'down': widgets.Button(description='LED 5', layout=Layout(width='60px', height='50px'))\n",
    "}\n",
    "\n",
    "# Set a role on the center button so the callback knows which one is meant to be light green when on\n",
    "buttons['center'].role = 'LED 3'\n",
    "\n",
    "# Initialize all buttons and attach the click handler\n",
    "for button in buttons.values():\n",
    "    button.style.button_color = 'lightgray'\n",
    "    button.on_click(on_button_clicked)\n",
    "\n",
    "# Define a grid layout for the buttons (using empty labels to center the top and bottom buttons)\n",
    "grid = GridBox(\n",
    "    children=[\n",
    "        widgets.Label(), buttons['up'], widgets.Label(),            # Row 1: Up button centered\n",
    "        buttons['left'], buttons['center'], buttons['right'],         # Row 2: Left, Center, Right buttons\n",
    "        widgets.Label(), buttons['down'], widgets.Label()             # Row 3: Down button centered\n",
    "    ],\n",
    "    layout=Layout(\n",
    "        display='grid',\n",
    "        grid_template_columns=\"auto auto auto\",\n",
    "        grid_template_rows=\"auto auto auto\",\n",
    "        justify_content=\"center\",\n",
    "        align_content=\"center\",\n",
    "        gap=\"0px\"\n",
    "    )\n",
    ")\n",
    "\n",
    "display(grid)"
   ]
  },
  {
   "cell_type": "code",
   "execution_count": null,
   "id": "aa4497a6-88b1-40d7-bc94-72a1554473f6",
   "metadata": {},
   "outputs": [],
   "source": []
  }
 ],
 "metadata": {
  "kernelspec": {
   "display_name": "Python (myenv)",
   "language": "python",
   "name": "myenv"
  },
  "language_info": {
   "codemirror_mode": {
    "name": "ipython",
    "version": 3
   },
   "file_extension": ".py",
   "mimetype": "text/x-python",
   "name": "python",
   "nbconvert_exporter": "python",
   "pygments_lexer": "ipython3",
   "version": "3.12.3"
  }
 },
 "nbformat": 4,
 "nbformat_minor": 5
}
