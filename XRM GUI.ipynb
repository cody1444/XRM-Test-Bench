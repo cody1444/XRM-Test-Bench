{
 "cells": [
  {
   "cell_type": "code",
   "execution_count": 1,
   "id": "aa4497a6-88b1-40d7-bc94-72a1554473f6",
   "metadata": {},
   "outputs": [
    {
     "data": {
      "application/vnd.jupyter.widget-view+json": {
       "model_id": "45f02b460af54e2d9647b77808a87731",
       "version_major": 2,
       "version_minor": 0
      },
      "text/plain": [
       "GridBox(children=(Label(value=''), Button(description='LED 1', layout=Layout(height='50px', width='60px'), sty…"
      ]
     },
     "metadata": {},
     "output_type": "display_data"
    }
   ],
   "source": [
    "import ipywidgets as widgets\n",
    "from IPython.display import display\n",
    "from ipywidgets import GridBox, Layout\n",
    "import serial\n",
    "\n",
    "# Try to open serial connection safely\n",
    "try:\n",
    "    ser = serial.Serial('/dev/ttyUSB1', 9600, timeout=1)\n",
    "except serial.SerialException as e:\n",
    "    print(f\"Error opening serial port: {e}\")\n",
    "    ser = None  # Prevents crashes if the serial port is unavailable\n",
    "\n",
    "def on_button_clicked(b):\n",
    "    \"\"\"Handles button clicks to toggle LED states and send UART commands.\"\"\"\n",
    "    \n",
    "    # Toggle button color (light green for center, light red for others)\n",
    "    if b.style.button_color == 'lightgray':\n",
    "        if b.description == \"LED 3\":\n",
    "            b.style.button_color = 'lightgreen'\n",
    "        else:\n",
    "            b.style.button_color = 'lightcoral'\n",
    "    else:\n",
    "        b.style.button_color = 'lightgray'\n",
    "\n",
    "    # Extract LED number (handles potential extra spaces)\n",
    "    led_number = b.description.replace('LED', '').strip()\n",
    "\n",
    "    # Determine desired state\n",
    "    state = \"ON\" if b.style.button_color != 'lightgray' else \"OFF\"\n",
    "\n",
    "    # Build command string\n",
    "    command = f\"LED{led_number} {state}\\n\"\n",
    "    #print(\"Sending command:\", command)  # Debug print; remove in production\n",
    "\n",
    "    # Send command over UART\n",
    "    if ser:  # Check if serial port was opened successfully\n",
    "        ser.write(command.encode('utf-8'))\n",
    "    else:\n",
    "        print(\"Serial port not open. Command not sent.\")\n",
    "\n",
    "# Create LED buttons\n",
    "buttons = {\n",
    "    'up': widgets.Button(description='LED 1', layout=Layout(width='60px', height='50px')),\n",
    "    'left': widgets.Button(description='LED 2', layout=Layout(width='60px', height='50px')),\n",
    "    'center': widgets.Button(description='LED 3', layout=Layout(width='60px', height='50px')),\n",
    "    'right': widgets.Button(description='LED 4', layout=Layout(width='60px', height='50px')),\n",
    "    'down': widgets.Button(description='LED 5', layout=Layout(width='60px', height='50px'))\n",
    "}\n",
    "\n",
    "# Initialize all buttons and attach click handler\n",
    "for button in buttons.values():\n",
    "    button.style.button_color = 'lightgray'\n",
    "    button.on_click(on_button_clicked)\n",
    "\n",
    "# Define grid layout for buttons\n",
    "grid = GridBox(\n",
    "    children=[\n",
    "        widgets.Label(), buttons['up'], widgets.Label(),          # Row 1\n",
    "        buttons['left'], buttons['center'], buttons['right'],      # Row 2\n",
    "        widgets.Label(), buttons['down'], widgets.Label()          # Row 3\n",
    "    ],\n",
    "    layout=Layout(\n",
    "        display='grid',\n",
    "        grid_template_columns=\"auto auto auto\",\n",
    "        grid_template_rows=\"auto auto auto\",\n",
    "        justify_content=\"center\",\n",
    "        align_content=\"center\",\n",
    "        gap=\"0px\"\n",
    "    )\n",
    ")\n",
    "\n",
    "# Display the GUI\n",
    "display(grid)\n",
    "\n",
    "# Ensure serial port closes when script exits\n",
    "import atexit\n",
    "if ser:\n",
    "    atexit.register(ser.close)\n"
   ]
  },
  {
   "cell_type": "code",
   "execution_count": null,
   "id": "3d3eb436-4c98-44e1-a2f6-5845b3e453ab",
   "metadata": {},
   "outputs": [],
   "source": []
  }
 ],
 "metadata": {
  "kernelspec": {
   "display_name": "Python (myenv)",
   "language": "python",
   "name": "myenv"
  },
  "language_info": {
   "codemirror_mode": {
    "name": "ipython",
    "version": 3
   },
   "file_extension": ".py",
   "mimetype": "text/x-python",
   "name": "python",
   "nbconvert_exporter": "python",
   "pygments_lexer": "ipython3",
   "version": "3.12.3"
  }
 },
 "nbformat": 4,
 "nbformat_minor": 5
}
